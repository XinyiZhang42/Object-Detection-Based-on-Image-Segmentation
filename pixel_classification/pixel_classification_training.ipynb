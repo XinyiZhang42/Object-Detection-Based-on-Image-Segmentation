{
 "cells": [
  {
   "cell_type": "code",
   "execution_count": 2,
   "metadata": {},
   "outputs": [
    {
     "data": {
      "image/png": "[encoded data removed]",
      "text/plain": [
       "<Figure size 432x288 with 1 Axes>"
      ]
     },
     "metadata": {
      "needs_background": "light"
     },
     "output_type": "display_data"
    }
   ],
   "source": [
    "'''\n",
    "ECE276A WI22 PR1: Color Classification and Recycling Bin Detection\n",
    "'''\n",
    "\n",
    "\n",
    "import numpy as np\n",
    "import matplotlib.pyplot as plt; plt.ion()\n",
    "import os, cv2\n",
    "\n",
    "def read_pixels(folder, verbose = False):\n",
    "  '''\n",
    "    Reads 3-D pixel value of the top left corner of each image in folder\n",
    "    and returns an n x 3 matrix X containing the pixel values \n",
    "  '''  \n",
    "  n = len(next(os.walk(folder))[2]) # number of files\n",
    "  X = np.empty([n, 3])\n",
    "  i = 0\n",
    "  \n",
    "  if verbose:\n",
    "    fig, ax = plt.subplots()\n",
    "    h = ax.imshow(np.random.randint(255, size=(28,28,3)).astype('uint8'))\n",
    "  \n",
    "  for filename in os.listdir(folder):  \n",
    "    # read image\n",
    "    # img = plt.imread(os.path.join(folder,filename), 0)\n",
    "    img = cv2.imread(os.path.join(folder,filename))\n",
    "    # convert from BGR (opencv convention) to RGB\n",
    "    img = cv2.cvtColor(img, cv2.COLOR_BGR2RGB)\n",
    "    # store pixel rgb value\n",
    "    X[i] = img[0,0].astype(np.float64)/255\n",
    "    i += 1\n",
    "    \n",
    "    # display\n",
    "    if verbose:\n",
    "      h.set_data(img)\n",
    "      ax.set_title(filename)\n",
    "      fig.canvas.flush_events()\n",
    "      plt.show()\n",
    "\n",
    "  return X\n",
    "\n",
    "\n",
    "if __name__ == '__main__':\n",
    "  folder = 'data/training'\n",
    "  X1 = read_pixels(folder+'/red', verbose = True)\n",
    "  X2 = read_pixels(folder+'/green')\n",
    "  X3 = read_pixels(folder+'/blue')\n",
    "  #y1,y2,y3-number of red,green,blue samples\n",
    "  y1, y2, y3 = np.full(X1.shape[0],1), np.full(X2.shape[0], 2), np.full(X3.shape[0],3)\n",
    "  X, y = np.concatenate((X1,X2,X3)), np.concatenate((y1,y2,y3))"
   ]
  },
  {
   "cell_type": "code",
   "execution_count": 6,
   "metadata": {},
   "outputs": [
    {
     "name": "stdout",
     "output_type": "stream",
     "text": [
      "(3694, 3) (1143,)\n"
     ]
    }
   ],
   "source": [
    "   #Check the shape of X,y for training\n",
    "   print(X.shape,y3.shape)#X.shape:(3694,3),y.shape(3694,)"
   ]
  },
  {
   "cell_type": "code",
   "execution_count": 25,
   "metadata": {},
   "outputs": [],
   "source": [
    "   #Train pixel classifier using Naive Bayes\n",
    "   \n",
    "   #Calculate Gaussian Naive Bayes parameters for each class\n",
    "   #Calculate mean for each class\n",
    "   mean_rgb = np.zeros((3,3))\n",
    "   mean_rgb[0,:] =  np.mean(X1,axis = 0)\n",
    "   mean_rgb[1,:] =  np.mean(X2,axis = 0)\n",
    "   mean_rgb[2,:] =  np.mean(X3,axis = 0)\n",
    "    \n",
    "   #Calculate variance for each class\n",
    "   var_rgb = np.zeros((3,3))\n",
    "   var_rgb[0,:] = np.var(X1,axis = 0)\n",
    "   var_rgb[1,:] = np.var(X2,axis = 0)\n",
    "   var_rgb[2,:] = np.var(X3,axis = 0)\n",
    "    \n",
    "   #Calculate prior probability theta for each class, theta = \n",
    "   theta = np.zeros((3,1))\n",
    "   theta[0] = len(y1)/X.shape[0]\n",
    "   theta[1] = len(y2)/X.shape[0]\n",
    "   theta[2] = len(y3)/X.shape[0]\n",
    "    \n",
    "   #Calculate mu for each class, mu = mean for each class\n",
    "   mu = np.zeros((3,3))\n",
    "   mu = mean_rgb\n",
    "\n",
    "   #Calculate sigma for each class, sigma = n/n-1 * var\n",
    "   sigma = np.zeros((3,3))\n",
    "   sigma[0,:] = var_rgb[0,:]*len(y1)/(len(y1)-1)\n",
    "   sigma[1,:] = var_rgb[1,:]*len(y2)/(len(y2)-1)\n",
    "   sigma[2,:] = var_rgb[2,:]*len(y3)/(len(y3)-1)"
   ]
  },
  {
   "cell_type": "code",
   "execution_count": 23,
   "metadata": {},
   "outputs": [
    {
     "name": "stdout",
     "output_type": "stream",
     "text": [
      "theta [[0.36599892]\n",
      " [0.3245804 ]\n",
      " [0.30942068]]\n",
      "mu [[0.75250609 0.34808562 0.34891229]\n",
      " [0.35060917 0.73551489 0.32949353]\n",
      " [0.34735903 0.33111351 0.73526495]]\n",
      "sigma [[0.03705927 0.06196869 0.06202255]\n",
      " [0.05573463 0.03478593 0.05602188]\n",
      " [0.05453762 0.05683331 0.03574061]]\n"
     ]
    }
   ],
   "source": [
    "   print(\"theta\",theta)\n",
    "   print(\"mu\",mu)\n",
    "   print(\"sigma\",var_rgb)"
   ]
  },
  {
   "cell_type": "code",
   "execution_count": null,
   "metadata": {},
   "outputs": [],
   "source": []
  }
 ],
 "metadata": {
  "kernelspec": {
   "display_name": "Python 3",
   "language": "python",
   "name": "python3"
  },
  "language_info": {
   "codemirror_mode": {
    "name": "ipython",
    "version": 3
   },
   "file_extension": ".py",
   "mimetype": "text/x-python",
   "name": "python",
   "nbconvert_exporter": "python",
   "pygments_lexer": "ipython3",
   "version": "3.8.3"
  }
 },
 "nbformat": 4,
 "nbformat_minor": 4
}
