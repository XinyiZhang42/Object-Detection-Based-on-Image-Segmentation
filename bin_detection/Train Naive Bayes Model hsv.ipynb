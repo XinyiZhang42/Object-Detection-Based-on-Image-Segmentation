{
 "cells": [
  {
   "cell_type": "code",
   "execution_count": 13,
   "metadata": {},
   "outputs": [],
   "source": [
    "import numpy as np\n",
    "import math\n",
    "\n",
    "if __name__ == '__main__':\n",
    "    #Load data\n",
    "    binblue = np.load('./data/SampleData/binblue.npy')\n",
    "    black = np.load('./data/SampleData/black.npy')\n",
    "    brown = np.load('./data/SampleData/brown.npy')\n",
    "    green = np.load('./data/SampleData/green.npy')\n",
    "    grey = np.load('./data/SampleData/grey.npy')\n",
    "    #otherblue = np.load('./data/SampleData/otherblue.npy')\n",
    "    purple = np.load('./data/SampleData/purple.npy')\n",
    "    red = np.load('./data/SampleData/red.npy')\n",
    "    skyblue = np.load('./data/SampleData/skyblue.npy')\n",
    "    white = np.load('./data/SampleData/white.npy')\n",
    "    yellow = np.load('./data/SampleData/yellow.npy')"
   ]
  },
  {
   "cell_type": "code",
   "execution_count": 14,
   "metadata": {},
   "outputs": [],
   "source": [
    "    #Generate data\n",
    "    X1 = binblue\n",
    "    X2 = black\n",
    "    X3 = brown\n",
    "    X4 = green\n",
    "    X5 = grey\n",
    "    X6 = purple\n",
    "    X7 = red\n",
    "    X8 = skyblue\n",
    "    X9 = white\n",
    "    X10 = yellow\n",
    "    y1, y2, y3, y4, y5, y6, y7, y8,y9,y10 = np.full(X1.shape[0],1), np.full(X2.shape[0],2), np.full(X3.shape[0],3), np.full(X4.shape[0],4), np.full(X5.shape[0],5), np.full(X6.shape[0],6), np.full(X7.shape[0],7), np.full(X8.shape[0],8),np.full(X9.shape[0],9),np.full(X10.shape[0],10)\n",
    "    \n",
    "    \n",
    "    #Calculate Gaussian Naive Bayes parameters for each class\n",
    "   #Calculate mean for each class\n",
    "    mean_rgb = np.zeros((10,3))\n",
    "    mean_rgb[0,:] =  np.mean(X1,axis = 0)\n",
    "    mean_rgb[1,:] =  np.mean(X2,axis = 0)\n",
    "    mean_rgb[2,:] =  np.mean(X3,axis = 0)\n",
    "    mean_rgb[3,:] =  np.mean(X4,axis = 0)\n",
    "    mean_rgb[4,:] =  np.mean(X5,axis = 0)\n",
    "    mean_rgb[5,:] =  np.mean(X6,axis = 0)\n",
    "    mean_rgb[6,:] =  np.mean(X7,axis = 0)\n",
    "    mean_rgb[7,:] =  np.mean(X8,axis = 0)\n",
    "    mean_rgb[8,:] =  np.mean(X9,axis = 0)\n",
    "    mean_rgb[9,:] =  np.mean(X10,axis = 0)\n",
    "    \n",
    "   \n",
    "\n",
    "    \n",
    "   #Calculate variance for each class\n",
    "    var_rgb = np.zeros((10,3))\n",
    "    var_rgb[0,:] =  np.var(X1,axis = 0)\n",
    "    var_rgb[1,:] =  np.var(X2,axis = 0)\n",
    "    var_rgb[2,:] =  np.var(X3,axis = 0) \n",
    "    var_rgb[3,:] =  np.var(X4,axis = 0)\n",
    "    var_rgb[4,:] =  np.var(X5,axis = 0)\n",
    "    var_rgb[5,:] =  np.var(X6,axis = 0)\n",
    "    var_rgb[6,:] =  np.var(X7,axis = 0)\n",
    "    var_rgb[7,:] =  np.var(X8,axis = 0)\n",
    "    var_rgb[8,:] =  np.var(X9,axis = 0)\n",
    "    var_rgb[9,:] =  np.var(X10,axis = 0)\n",
    " \n",
    "\n",
    "  #Calculate mu for each class, mu = mean for each class\n",
    "    mu = np.zeros((10,3))\n",
    "    mu = mean_rgb\n",
    "    \n",
    "  #Calculate sigma for each class, sigma = n/n-1 * var\n",
    "    sigma = np.zeros((10,3))\n",
    "    sigma = var_rgb"
   ]
  },
  {
   "cell_type": "code",
   "execution_count": 15,
   "metadata": {},
   "outputs": [
    {
     "name": "stdout",
     "output_type": "stream",
     "text": [
      "mu [[113.91622572 206.50479637 160.97238248]\n",
      " [ 95.67741935  52.97616487  60.45967742]\n",
      " [ 36.38911829  88.69808113 155.77362157]\n",
      " [ 52.30760184 133.73473752 105.19736983]\n",
      " [ 67.48803014  15.1526444  172.78927538]\n",
      " [132.48281016 155.67115097  81.91479821]\n",
      " [145.94249685 193.01765448 208.60857503]\n",
      " [104.28818549 109.78918151 224.62268573]\n",
      " [111.76906844  25.25324088 230.08260476]\n",
      " [ 25.25       130.38509874 246.85682226]]\n",
      "sigma [[1.41120547e+01 8.77918703e+02 2.12284418e+03]\n",
      " [1.40234361e+03 8.18073805e+02 3.42142639e+02]\n",
      " [2.67957630e+03 3.17192633e+03 3.61938208e+03]\n",
      " [1.37363416e+02 4.34116528e+03 1.08501055e+03]\n",
      " [1.94666800e+03 5.83112124e+01 1.29454660e+03]\n",
      " [1.78969392e+01 6.92435954e+02 2.05369229e+03]\n",
      " [4.34819947e+03 5.56532882e+03 3.49797188e+03]\n",
      " [4.78285527e+01 1.79100297e+03 4.18704482e+02]\n",
      " [2.78521889e+02 1.71849044e+02 1.19315808e+03]\n",
      " [5.20994165e+00 7.83096391e+03 1.25377615e+02]]\n"
     ]
    }
   ],
   "source": [
    "   print(\"mu\",mu)\n",
    "   print(\"sigma\",var_rgb)"
   ]
  },
  {
   "cell_type": "code",
   "execution_count": 16,
   "metadata": {},
   "outputs": [],
   "source": [
    "    np.save('./mu.npy', mu)\n",
    "    np.save('./sigma.npy', sigma)"
   ]
  },
  {
   "cell_type": "code",
   "execution_count": null,
   "metadata": {},
   "outputs": [],
   "source": []
  }
 ],
 "metadata": {
  "kernelspec": {
   "display_name": "Python 3",
   "language": "python",
   "name": "python3"
  },
  "language_info": {
   "codemirror_mode": {
    "name": "ipython",
    "version": 3
   },
   "file_extension": ".py",
   "mimetype": "text/x-python",
   "name": "python",
   "nbconvert_exporter": "python",
   "pygments_lexer": "ipython3",
   "version": "3.8.3"
  }
 },
 "nbformat": 4,
 "nbformat_minor": 4
}
