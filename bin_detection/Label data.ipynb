{
 "cells": [
  {
   "cell_type": "code",
   "execution_count": 9,
   "metadata": {},
   "outputs": [],
   "source": [
    "'''\n",
    "ECE276A WI22 PR1: Color Classification and Recycling Bin Detection\n",
    "'''\n",
    "\n",
    "import os, cv2\n",
    "from roipoly import RoiPoly\n",
    "from matplotlib import pyplot as plt\n",
    "import numpy as np\n",
    "import matplotlib\n",
    "matplotlib.use('TkAgg')\n"
   ]
  },
  {
   "cell_type": "code",
   "execution_count": 10,
   "metadata": {},
   "outputs": [
    {
     "name": "stdout",
     "output_type": "stream",
     "text": [
      "Which color ?\n",
      "binblue\n"
     ]
    },
    {
     "ename": "IndexError",
     "evalue": "list index out of range",
     "output_type": "error",
     "traceback": [
      "\u001b[1;31m---------------------------------------------------------------------------\u001b[0m",
      "\u001b[1;31mIndexError\u001b[0m                                Traceback (most recent call last)",
      "\u001b[1;32m<ipython-input-10-3ce395198409>\u001b[0m in \u001b[0;36m<module>\u001b[1;34m\u001b[0m\n\u001b[0;32m     28\u001b[0m \u001b[1;33m\u001b[0m\u001b[0m\n\u001b[0;32m     29\u001b[0m         \u001b[1;31m# get the image mask\u001b[0m\u001b[1;33m\u001b[0m\u001b[1;33m\u001b[0m\u001b[1;33m\u001b[0m\u001b[0m\n\u001b[1;32m---> 30\u001b[1;33m         \u001b[0mmask\u001b[0m \u001b[1;33m=\u001b[0m \u001b[0mmy_roi\u001b[0m\u001b[1;33m.\u001b[0m\u001b[0mget_mask\u001b[0m\u001b[1;33m(\u001b[0m\u001b[0mimg_hsv\u001b[0m\u001b[1;33m)\u001b[0m\u001b[1;33m\u001b[0m\u001b[1;33m\u001b[0m\u001b[0m\n\u001b[0m\u001b[0;32m     31\u001b[0m \u001b[1;33m\u001b[0m\u001b[0m\n\u001b[0;32m     32\u001b[0m         \u001b[1;31m# display the labeled region and the image mask\u001b[0m\u001b[1;33m\u001b[0m\u001b[1;33m\u001b[0m\u001b[1;33m\u001b[0m\u001b[0m\n",
      "\u001b[1;32m~\\A Project1\\ECE276A_PR1\\bin_detection\\roipoly\\roipoly.py\u001b[0m in \u001b[0;36mget_mask\u001b[1;34m(self, current_image)\u001b[0m\n\u001b[0;32m     82\u001b[0m     \u001b[1;32mdef\u001b[0m \u001b[0mget_mask\u001b[0m\u001b[1;33m(\u001b[0m\u001b[0mself\u001b[0m\u001b[1;33m,\u001b[0m \u001b[0mcurrent_image\u001b[0m\u001b[1;33m)\u001b[0m\u001b[1;33m:\u001b[0m\u001b[1;33m\u001b[0m\u001b[1;33m\u001b[0m\u001b[0m\n\u001b[0;32m     83\u001b[0m         \u001b[0mny\u001b[0m\u001b[1;33m,\u001b[0m \u001b[0mnx\u001b[0m \u001b[1;33m=\u001b[0m \u001b[0mnp\u001b[0m\u001b[1;33m.\u001b[0m\u001b[0mshape\u001b[0m\u001b[1;33m(\u001b[0m\u001b[0mcurrent_image\u001b[0m\u001b[1;33m)\u001b[0m\u001b[1;33m[\u001b[0m\u001b[1;36m0\u001b[0m\u001b[1;33m]\u001b[0m\u001b[1;33m,\u001b[0m \u001b[0mnp\u001b[0m\u001b[1;33m.\u001b[0m\u001b[0mshape\u001b[0m\u001b[1;33m(\u001b[0m\u001b[0mcurrent_image\u001b[0m\u001b[1;33m)\u001b[0m\u001b[1;33m[\u001b[0m\u001b[1;36m1\u001b[0m\u001b[1;33m]\u001b[0m\u001b[1;33m\u001b[0m\u001b[1;33m\u001b[0m\u001b[0m\n\u001b[1;32m---> 84\u001b[1;33m         poly_verts = ([(self.x[0], self.y[0])]\n\u001b[0m\u001b[0;32m     85\u001b[0m                       + list(zip(reversed(self.x), reversed(self.y))))\n\u001b[0;32m     86\u001b[0m         \u001b[1;31m# Create vertex coordinates for each grid cell...\u001b[0m\u001b[1;33m\u001b[0m\u001b[1;33m\u001b[0m\u001b[1;33m\u001b[0m\u001b[0m\n",
      "\u001b[1;31mIndexError\u001b[0m: list index out of range"
     ]
    }
   ],
   "source": [
    "\n",
    "if __name__ == '__main__':\n",
    "\n",
    "\n",
    "    # initialize list storage variables that are for all images\n",
    "    #Change below class name as needed before running\n",
    "    h = []\n",
    "    s = []\n",
    "    v = []\n",
    "\n",
    "    #Prompt for color category\n",
    "    color = ''\n",
    "    print(\"Which color ?\")\n",
    "    color = input()\n",
    "    folder = 'data/training'\n",
    "    \n",
    "    for im_file in os.listdir(folder):\n",
    "  \n",
    "        img = cv2.imread(os.path.join(folder, im_file))\n",
    "        #Obtain rgb img for display\n",
    "        img_rgb = cv2.cvtColor(img, cv2.COLOR_BGR2RGB)\n",
    "        #Use HSV to avoid possible influence fromillumination\n",
    "        img_hsv= cv2.cvtColor(img, cv2.COLOR_BGR2HSV) \n",
    "\n",
    "        # display the image inroipoly\n",
    "        fig, ax = plt.subplots()\n",
    "        ax.imshow(img_rgb)\n",
    "        my_roi = RoiPoly(fig=fig, ax=ax, color='r')\n",
    "\n",
    "        # get the image mask\n",
    "        mask = my_roi.get_mask(img_hsv)\n",
    "\n",
    "        # display the labeled region and the image mask\n",
    "        fig, (ax1, ax2) = plt.subplots(1, 2)\n",
    "        fig.suptitle('%d pixels selected\\n' % img_hsv[mask, :].shape[0])\n",
    "\n",
    "        ax1.imshow(img)\n",
    "        ax1.add_line(plt.Line2D(my_roi.x + [my_roi.x[0]], my_roi.y + [my_roi.y[0]], color=my_roi.color))\n",
    "        ax2.imshow(mask)\n",
    "\n",
    "        plt.show(block=True)\n",
    "\n",
    "        # save mask-positive pixels\n",
    "        for i in range(img_hsv.shape[0]):\n",
    "            for j in range(img_hsv.shape[1]):\n",
    "                if mask[i,j] == 1: #True\n",
    "                    h.append(img_hsv[i,j,0])\n",
    "                    s.append(img_hsv[i,j,1])\n",
    "                    v.append(img_hsv[i,j,2])\n",
    "                    #convert lists to numpy arrays\n",
    "                    h_array = np.asarray(h)\n",
    "                    s_array = np.asarray(s)\n",
    "                    v_array = np.asarray(v)\n",
    "                    #stack hsv numpy arrays vertically\n",
    "                    pixels = np.vstack((h_array,s_array,v_array))\n",
    "                    pixels =pixels.transpose()\n",
    "                    # save data \n",
    "                    np.save('./data/SampleData/'+color+'.npy', pixels) \n"
   ]
  },
  {
   "cell_type": "code",
   "execution_count": null,
   "metadata": {},
   "outputs": [],
   "source": []
  },
  {
   "cell_type": "code",
   "execution_count": null,
   "metadata": {},
   "outputs": [],
   "source": []
  }
 ],
 "metadata": {
  "kernelspec": {
   "display_name": "Python 3",
   "language": "python",
   "name": "python3"
  },
  "language_info": {
   "codemirror_mode": {
    "name": "ipython",
    "version": 3
   },
   "file_extension": ".py",
   "mimetype": "text/x-python",
   "name": "python",
   "nbconvert_exporter": "python",
   "pygments_lexer": "ipython3",
   "version": "3.8.3"
  }
 },
 "nbformat": 4,
 "nbformat_minor": 4
}
